{
  "nbformat": 4,
  "nbformat_minor": 0,
  "metadata": {
    "colab": {
      "name": "Lesson_4_Light",
      "provenance": [],
      "toc_visible": true,
      "authorship_tag": "ABX9TyOeb4OQzFw8KJ5h9979i/Ng"
    },
    "kernelspec": {
      "name": "python3",
      "display_name": "Python 3"
    },
    "language_info": {
      "name": "python"
    }
  },
  "cells": [
    {
      "cell_type": "code",
      "metadata": {
        "id": "Uzr6xnb---qY"
      },
      "source": [
        "import random\n",
        "# reduce\n",
        "from functools import reduce # начиная с 3..."
      ],
      "execution_count": null,
      "outputs": []
    },
    {
      "cell_type": "markdown",
      "metadata": {
        "id": "g9H2DThA-_jd"
      },
      "source": [
        "Задание Lite\n",
        "\n",
        "- Напишите функцию (F): на вход список имен и целое число N; на выходе список длины N случайных имен из первого списка (могут повторяться, можно взять значения: количество имен 20, N = 100, рекомендуется использовать функцию random);\n",
        "- Напишите функцию вывода самого частого имени из списка на выходе функции F;\n",
        "- Напишите функцию вывода самой редкой буквы, с которого начинаются имена в списке на выходе функции F."
      ]
    },
    {
      "cell_type": "markdown",
      "metadata": {
        "id": "v0lr9xopVxUu"
      },
      "source": [
        "# Задача 1"
      ]
    },
    {
      "cell_type": "markdown",
      "metadata": {
        "id": "sJ3fN8kPCX02"
      },
      "source": [
        "Напишите функцию (F): на вход список имен и целое число N; на выходе список длины N случайных имен из первого списка (могут повторяться, можно взять значения: количество имен 20, N = 100, рекомендуется использовать функцию random);"
      ]
    },
    {
      "cell_type": "code",
      "metadata": {
        "id": "_F6oT888_YQu"
      },
      "source": [
        "def f(a, n):\n",
        "    if type(a) == list:\n",
        "        out = []\n",
        "        for i in range(n):\n",
        "          out.append(random.choice(a))\n",
        "        return out\n",
        "    else: 'ошибка! Принимется только список'\n",
        "    return out"
      ],
      "execution_count": null,
      "outputs": []
    },
    {
      "cell_type": "code",
      "metadata": {
        "id": "kW3VKoOkAX4Q"
      },
      "source": [
        "names = ['Маша',\n",
        "         'Федя',\n",
        "         'Жора',\n",
        "         'Гоша',\n",
        "         'Коля',\n",
        "         'Паша',\n",
        "         'Саша',\n",
        "         'Инна',\n",
        "         'Нюра',\n",
        "         'Гога',\n",
        "         'Боря',\n",
        "         'Лика',\n",
        "         'Лера',\n",
        "         'Дуня',\n",
        "         'Варя',\n",
        "         'Люся',\n",
        "         'Марго',\n",
        "         'Даря',\n",
        "         'Тима',\n",
        "         'Вика',\n",
        "         ]"
      ],
      "execution_count": null,
      "outputs": []
    },
    {
      "cell_type": "code",
      "metadata": {
        "colab": {
          "base_uri": "https://localhost:8080/"
        },
        "id": "m2wwyPXpCIFc",
        "outputId": "7419f9da-8860-4677-d673-1a56d8f46d64"
      },
      "source": [
        "d = f(names, 100)\n",
        "print(d)"
      ],
      "execution_count": null,
      "outputs": [
        {
          "output_type": "stream",
          "name": "stdout",
          "text": [
            "['Дуня', 'Варя', 'Лика', 'Жора', 'Тима', 'Жора', 'Паша', 'Боря', 'Федя', 'Марго', 'Маша', 'Нюра', 'Маша', 'Гога', 'Коля', 'Лика', 'Марго', 'Инна', 'Дуня', 'Лера', 'Даря', 'Гога', 'Дуня', 'Маша', 'Тима', 'Паша', 'Тима', 'Лера', 'Гоша', 'Инна', 'Дуня', 'Тима', 'Маша', 'Маша', 'Инна', 'Паша', 'Саша', 'Люся', 'Нюра', 'Нюра', 'Нюра', 'Гога', 'Дуня', 'Лика', 'Саша', 'Тима', 'Боря', 'Коля', 'Даря', 'Гоша', 'Лика', 'Паша', 'Федя', 'Боря', 'Лика', 'Даря', 'Лика', 'Гоша', 'Варя', 'Тима', 'Марго', 'Коля', 'Дуня', 'Нюра', 'Боря', 'Тима', 'Боря', 'Инна', 'Вика', 'Дуня', 'Тима', 'Марго', 'Люся', 'Гога', 'Саша', 'Маша', 'Дуня', 'Люся', 'Дуня', 'Лера', 'Тима', 'Гоша', 'Коля', 'Лера', 'Гога', 'Лика', 'Паша', 'Боря', 'Лера', 'Инна', 'Вика', 'Гога', 'Гоша', 'Гоша', 'Федя', 'Гога', 'Люся', 'Федя', 'Саша', 'Марго']\n"
          ]
        }
      ]
    },
    {
      "cell_type": "markdown",
      "metadata": {
        "id": "RaDuIhn1V1ep"
      },
      "source": [
        "# Задача 2"
      ]
    },
    {
      "cell_type": "markdown",
      "metadata": {
        "id": "UTUK9vENCerF"
      },
      "source": [
        "Напишите функцию вывода самого частого имени из списка на выходе функции F;"
      ]
    },
    {
      "cell_type": "markdown",
      "metadata": {
        "id": "juqIAMeUWKVf"
      },
      "source": [
        "## вариант на 2х циклах"
      ]
    },
    {
      "cell_type": "code",
      "metadata": {
        "id": "aC5dC-xfCgpI"
      },
      "source": [
        "def check_1(spisok):\n",
        "    '''\n",
        "    вариант на 2х циклах\n",
        "    '''\n",
        "    keys = set(spisok) # получаем неповторяющиеся имена\n",
        "    main = []\n",
        "    friq = 0\n",
        "    for el in keys: # цикл по ключам\n",
        "      k = 0\n",
        "      for name in spisok: # цикл по именам\n",
        "          if el == name:\n",
        "              k+=1\n",
        "              if k > friq: # сравнение с текущим максимумом\n",
        "                main = [(name,k)] # запоминаем имя текущего максимума\n",
        "                friq = k # запоминаям текущий максимум\n",
        "              elif k==friq and (name,k) not in main: # запоминаям если одинаково\n",
        "                 main.append((name,k))  # запоминаям если одинаково\n",
        "                 #print(main,name,'__', k)\n",
        "    return main\n"
      ],
      "execution_count": null,
      "outputs": []
    },
    {
      "cell_type": "code",
      "metadata": {
        "colab": {
          "base_uri": "https://localhost:8080/"
        },
        "id": "G_jgV52sNYnn",
        "outputId": "b7ed069a-a47d-499c-8650-5fdc6b9bdf2c"
      },
      "source": [
        "print(check_1(d))\n",
        "sort_d = sorted(d)\n",
        "print(check_1(sort_d))"
      ],
      "execution_count": null,
      "outputs": [
        {
          "output_type": "stream",
          "name": "stdout",
          "text": [
            "[('Тима', 9), ('Дуня', 9)]\n",
            "[('Тима', 9), ('Дуня', 9)]\n"
          ]
        }
      ]
    },
    {
      "cell_type": "markdown",
      "metadata": {
        "id": "j_uWdTV7WWQ_"
      },
      "source": [
        "## вариант сортировка и 1 цикл"
      ]
    },
    {
      "cell_type": "code",
      "metadata": {
        "id": "ABHlA9YDIsv-"
      },
      "source": [
        "def check_2(spisok):\n",
        "    '''\n",
        "    вариант сортировка и 1 цикл\n",
        "    '''\n",
        "    sort_d = sorted(spisok) # сортировка\n",
        "    main = []\n",
        "    friq = 0\n",
        "    for i in range(len(sort_d)):\n",
        "      name = sort_d[i]\n",
        "      if (i != 0 and sort_d[i-1] == name):\n",
        "          k+=1\n",
        "          if k > friq:\n",
        "            main = [(name,k)]\n",
        "            friq = k # запоминаям текущий максимум\n",
        "          elif k==friq and (name,k) not in main: # запоминаям если одинаково\n",
        "              main.append((name,k))  # запоминаям если одинаково\n",
        "      else:\n",
        "        k=1\n",
        "    return main\n"
      ],
      "execution_count": null,
      "outputs": []
    },
    {
      "cell_type": "code",
      "metadata": {
        "colab": {
          "base_uri": "https://localhost:8080/"
        },
        "id": "nSLsyXHuiOUG",
        "outputId": "abdd7883-9868-4620-8943-15f540502bbe"
      },
      "source": [
        "print(check_2(d))"
      ],
      "execution_count": null,
      "outputs": [
        {
          "output_type": "stream",
          "name": "stdout",
          "text": [
            "[('Дуня', 9), ('Тима', 9)]\n"
          ]
        }
      ]
    },
    {
      "cell_type": "markdown",
      "metadata": {
        "id": "o7J-WFHBWat9"
      },
      "source": [
        "## вариант через словари"
      ]
    },
    {
      "cell_type": "code",
      "metadata": {
        "id": "gtuyC2-YhBBo"
      },
      "source": [
        "def check_3(spisok, var = 0):\n",
        "    '''\n",
        "    вариант через словари\n",
        "    '''\n",
        "    keys = set(spisok)\n",
        "    sorted_spisok = sorted(spisok) # сортировка\n",
        "    dic = dict.fromkeys(keys,0)\n",
        "    for word in sorted(keys):\n",
        "        for name in sorted_spisok:\n",
        "            if word == name:\n",
        "              dic[word] += 1\n",
        "    if not var:\n",
        "      #min_val = max(list(dic.values()))\n",
        "      min_val = reduce(lambda a,b: a if a<b else b,list(dic.values()))\n",
        "      return [(name,value) for name, value in dic.items()\n",
        "              if value==min_val]\n",
        "    else: \n",
        "      #max_val = max(list(dic.values()))\n",
        "      max_val = reduce(lambda a,b: a if a>b else b,list(dic.values()))\n",
        "      return [(name,value) for name, value in dic.items()\n",
        "              if value==max_val]\n"
      ],
      "execution_count": null,
      "outputs": []
    },
    {
      "cell_type": "code",
      "metadata": {
        "colab": {
          "base_uri": "https://localhost:8080/"
        },
        "id": "WTckjITniPD5",
        "outputId": "a23606d5-0bf0-4b9e-b3b0-0a56d1f5aef5"
      },
      "source": [
        "check_3(d,1)"
      ],
      "execution_count": null,
      "outputs": [
        {
          "output_type": "execute_result",
          "data": {
            "text/plain": [
              "[('Тима', 9), ('Дуня', 9)]"
            ]
          },
          "metadata": {},
          "execution_count": 90
        }
      ]
    },
    {
      "cell_type": "markdown",
      "metadata": {
        "id": "GqFYZcAVV6mA"
      },
      "source": [
        "## Тест скорости на большое число"
      ]
    },
    {
      "cell_type": "code",
      "metadata": {
        "id": "JjYXMd93FXeA"
      },
      "source": [
        "d = f(names, 100000)"
      ],
      "execution_count": null,
      "outputs": []
    },
    {
      "cell_type": "code",
      "metadata": {
        "colab": {
          "base_uri": "https://localhost:8080/"
        },
        "id": "ewZ2HLCDVBm0",
        "outputId": "69af2ca2-9874-48f9-f86b-5257da8b86ab"
      },
      "source": [
        "%timeit(check_1(d))"
      ],
      "execution_count": null,
      "outputs": [
        {
          "output_type": "stream",
          "name": "stdout",
          "text": [
            "10 loops, best of 5: 107 ms per loop\n"
          ]
        }
      ]
    },
    {
      "cell_type": "code",
      "metadata": {
        "colab": {
          "base_uri": "https://localhost:8080/"
        },
        "id": "HCCn6YrJUEz9",
        "outputId": "f7df8c68-8326-432b-c07a-4744003a881a"
      },
      "source": [
        "%timeit(check_2(d))"
      ],
      "execution_count": null,
      "outputs": [
        {
          "output_type": "stream",
          "name": "stdout",
          "text": [
            "10 loops, best of 5: 48.2 ms per loop\n"
          ]
        }
      ]
    },
    {
      "cell_type": "code",
      "metadata": {
        "colab": {
          "base_uri": "https://localhost:8080/"
        },
        "id": "fan5OrGwli1C",
        "outputId": "7256a9fe-53b5-4ead-d9f0-6eee88e30fca"
      },
      "source": [
        "%timeit(check_3(d,1))"
      ],
      "execution_count": null,
      "outputs": [
        {
          "output_type": "stream",
          "name": "stdout",
          "text": [
            "10 loops, best of 5: 122 ms per loop\n"
          ]
        }
      ]
    },
    {
      "cell_type": "markdown",
      "metadata": {
        "id": "dvVg4zHuWAn3"
      },
      "source": [
        "Вторая функция в 2-3 раза быстрее!!!"
      ]
    },
    {
      "cell_type": "markdown",
      "metadata": {
        "id": "K5Eunsj1WMt5"
      },
      "source": [
        "# Задача 3"
      ]
    },
    {
      "cell_type": "markdown",
      "metadata": {
        "id": "m-pftHecWKBO"
      },
      "source": [
        "Напишите функцию вывода самой редкой буквы, с которого начинаются имена в списке на выходе функции F."
      ]
    },
    {
      "cell_type": "code",
      "metadata": {
        "colab": {
          "base_uri": "https://localhost:8080/"
        },
        "id": "0uADhVDD5Tdb",
        "outputId": "540c244c-cdf6-4535-dab8-428686f7cc9d"
      },
      "source": [
        "d = f(names, 100)\n",
        "print(d)"
      ],
      "execution_count": null,
      "outputs": [
        {
          "output_type": "stream",
          "name": "stdout",
          "text": [
            "['Даря', 'Тима', 'Люся', 'Боря', 'Варя', 'Саша', 'Федя', 'Нюра', 'Лера', 'Варя', 'Коля', 'Нюра', 'Варя', 'Маша', 'Инна', 'Федя', 'Гога', 'Маша', 'Боря', 'Даря', 'Нюра', 'Нюра', 'Тима', 'Федя', 'Паша', 'Вика', 'Марго', 'Маша', 'Марго', 'Саша', 'Гоша', 'Лика', 'Маша', 'Лика', 'Коля', 'Нюра', 'Вика', 'Федя', 'Инна', 'Гога', 'Паша', 'Федя', 'Марго', 'Нюра', 'Паша', 'Маша', 'Люся', 'Гога', 'Инна', 'Даря', 'Нюра', 'Лера', 'Маша', 'Паша', 'Инна', 'Маша', 'Лера', 'Жора', 'Коля', 'Тима', 'Варя', 'Гога', 'Тима', 'Саша', 'Марго', 'Лера', 'Варя', 'Жора', 'Маша', 'Нюра', 'Лика', 'Люся', 'Дуня', 'Гоша', 'Лера', 'Саша', 'Саша', 'Марго', 'Боря', 'Инна', 'Гога', 'Инна', 'Гоша', 'Даря', 'Варя', 'Инна', 'Жора', 'Коля', 'Саша', 'Тима', 'Саша', 'Коля', 'Вика', 'Марго', 'Лика', 'Дуня', 'Нюра', 'Федя', 'Марго', 'Нюра']\n"
          ]
        }
      ]
    },
    {
      "cell_type": "markdown",
      "metadata": {
        "id": "Xv-eK5Qt8CqY"
      },
      "source": [
        "## вариант через словари"
      ]
    },
    {
      "cell_type": "code",
      "metadata": {
        "id": "W2MmtUbifYeX"
      },
      "source": [
        "def check_letter_1(spisok, var = 0):\n",
        "    # получаем уникальные сортированные имена\n",
        "    sorted_keys = sorted(set(spisok))\n",
        "    # получаем уникальные буквы\n",
        "    letter = set([name[0] for name in sorted_keys])\n",
        "    # пустой слварь частотности\n",
        "    dic = dict.fromkeys(letter,0)\n",
        "    for word in spisok: # по именам\n",
        "        for el in letter:  # по буквам\n",
        "            # собираем частотность\n",
        "            if word[0] == el:\n",
        "              dic[el] += 1 \n",
        "    if not var: # выводим список самых редких\n",
        "      min_val = min(dic.values())\n",
        "      return [(letter, min_val) for letter, value in dic.items()\n",
        "      if value==min_val]\n",
        "    else: # выводим список самых частых\n",
        "      max_val = max(dic.values())\n",
        "      return [(letter,max_val) for letter, value in dic.items()\n",
        "      if value==max_val]"
      ],
      "execution_count": null,
      "outputs": []
    },
    {
      "cell_type": "code",
      "metadata": {
        "colab": {
          "base_uri": "https://localhost:8080/"
        },
        "id": "LBDMKdo1WOZF",
        "outputId": "70bbbbb2-1d04-45e5-c21e-4d44327804df"
      },
      "source": [
        "check_letter_1(d)"
      ],
      "execution_count": null,
      "outputs": [
        {
          "output_type": "execute_result",
          "data": {
            "text/plain": [
              "[('Ж', 3), ('Б', 3)]"
            ]
          },
          "metadata": {},
          "execution_count": 151
        }
      ]
    },
    {
      "cell_type": "code",
      "metadata": {
        "colab": {
          "base_uri": "https://localhost:8080/"
        },
        "id": "Dwhc8sMu7B-i",
        "outputId": "ece657ce-10bb-4967-be6c-61bade9b0a70"
      },
      "source": [
        "check_letter_1(d,1)"
      ],
      "execution_count": null,
      "outputs": [
        {
          "output_type": "execute_result",
          "data": {
            "text/plain": [
              "[('М', 15)]"
            ]
          },
          "metadata": {},
          "execution_count": 157
        }
      ]
    },
    {
      "cell_type": "markdown",
      "metadata": {
        "id": "ys69pN7g8Gpd"
      },
      "source": [
        "## вариант сортировка и 1 цикл"
      ]
    },
    {
      "cell_type": "code",
      "metadata": {
        "id": "YIuvPhlqW2kl"
      },
      "source": [
        "def check_letter_2(spisok, var = 0):\n",
        "    '''\n",
        "    вариант сортировка и 1 цикл\n",
        "    '''\n",
        "    sort_spisok = sorted(spisok) # сортировка списка\n",
        "    # получаем тотько первые буквы\n",
        "    words = list(map(lambda x: x[0], sort_spisok))\n",
        "\n",
        "    it = 0 # счеичик запоминания буквы\n",
        "    k=1    # получаем тотько\n",
        "    for i in range(len(words)): # по буквам\n",
        "      if (i != 0 and words[i-1] == words[i]):\n",
        "          k+=1 # увеличиваем\n",
        "      if (i != 0 and words[i-1] != words[i]):\n",
        "          word = words[i-1]\n",
        "          if it == 0:  # если запоминаем 1ю букву\n",
        "            friq = k # фиксируем\n",
        "            main = [(word,k)] # запоминаем букву\n",
        "           # k=0\n",
        "          elif it > 0 and k < friq and var == 0:\n",
        "            main = [(word,k)] # запоминаем букву\n",
        "            friq = k # запоминаям лучший\n",
        "\n",
        "          elif it > 0 and k > friq and var ==1:\n",
        "            main = [(word,k)]\n",
        "            friq = k # запоминаям лучший\n",
        "\n",
        "          elif it > 0 and k==friq and (word,k) not in main: # запоминаям если одинаково\n",
        "              main.append((word,k))  # запоминаям если одинаково\n",
        "              friq = k # запоминаям лучший\n",
        "          # смена для следующего прохода \n",
        "          it+=1\n",
        "          k=1\n",
        "    return main\n"
      ],
      "execution_count": null,
      "outputs": []
    },
    {
      "cell_type": "code",
      "metadata": {
        "colab": {
          "base_uri": "https://localhost:8080/"
        },
        "id": "CKP8qzWAmQhg",
        "outputId": "f8799238-f45d-4740-8848-88b04db63053"
      },
      "source": [
        "check_letter_2(d)"
      ],
      "execution_count": null,
      "outputs": [
        {
          "output_type": "execute_result",
          "data": {
            "text/plain": [
              "[('Б', 3), ('Ж', 3)]"
            ]
          },
          "metadata": {},
          "execution_count": 152
        }
      ]
    },
    {
      "cell_type": "code",
      "metadata": {
        "colab": {
          "base_uri": "https://localhost:8080/"
        },
        "id": "4WDprgV462R1",
        "outputId": "5e002aef-99b6-4d24-eac3-35cadc912fa8"
      },
      "source": [
        "check_letter_2(d,1) # глянем максимум"
      ],
      "execution_count": null,
      "outputs": [
        {
          "output_type": "execute_result",
          "data": {
            "text/plain": [
              "[('М', 15)]"
            ]
          },
          "metadata": {},
          "execution_count": 156
        }
      ]
    },
    {
      "cell_type": "markdown",
      "metadata": {
        "id": "Cjne4OFT8Lt3"
      },
      "source": [
        "## Тест скорости на большое число"
      ]
    },
    {
      "cell_type": "code",
      "metadata": {
        "id": "pGu1hvEo49fE"
      },
      "source": [
        "d = f(names, 100000)"
      ],
      "execution_count": null,
      "outputs": []
    },
    {
      "cell_type": "code",
      "metadata": {
        "colab": {
          "base_uri": "https://localhost:8080/"
        },
        "id": "Hm5XsrlP49fU",
        "outputId": "adc19c89-65ae-4aca-bd1a-90ef9c4488f2"
      },
      "source": [
        "%timeit(check_letter_1(d))"
      ],
      "execution_count": null,
      "outputs": [
        {
          "output_type": "stream",
          "name": "stdout",
          "text": [
            "10 loops, best of 5: 164 ms per loop\n"
          ]
        }
      ]
    },
    {
      "cell_type": "code",
      "metadata": {
        "colab": {
          "base_uri": "https://localhost:8080/"
        },
        "id": "4ZNLcpJs49fV",
        "outputId": "87ec6624-ed6e-4388-fef9-07c30c7f99a6"
      },
      "source": [
        "%timeit(check_letter_2(d))"
      ],
      "execution_count": null,
      "outputs": [
        {
          "output_type": "stream",
          "name": "stdout",
          "text": [
            "10 loops, best of 5: 72.4 ms per loop\n"
          ]
        }
      ]
    },
    {
      "cell_type": "markdown",
      "metadata": {
        "id": "oM_bLU4g8vT-"
      },
      "source": [
        "# Выводы"
      ]
    },
    {
      "cell_type": "markdown",
      "metadata": {
        "id": "KZmpHE_a8Njp"
      },
      "source": [
        "Сортировка и подсчет в одлм цикле  всегда  2-3 раза быстрее\n",
        "\n",
        "Код через сортировку и проход несколько сложнее в построении и больше требует времени для оттачивания, но значительно быстрее "
      ]
    }
  ]
}